{
 "cells": [
  {
   "cell_type": "code",
   "execution_count": 1,
   "id": "2fee5977-0308-4a05-86ec-ce0f1f97257f",
   "metadata": {},
   "outputs": [],
   "source": [
    "import snappy, csv, pickle\n",
    "with open(\"braid_words_pickle.txt\", \"rb\") as braid_words: \n",
    "\twords = pickle.load(braid_words)"
   ]
  },
  {
   "cell_type": "code",
   "execution_count": 2,
   "id": "795b36b5-9fa3-485d-bc59-6205b3d33c2a",
   "metadata": {},
   "outputs": [],
   "source": [
    "def get_degrees(A): \n",
    "#     temp = str(A).replace(' 1', ' a^0')\n",
    "#     temp = temp.replace(' a ', ' a^1 ')\n",
    "    R.<a> = LaurentPolynomialRing(ZZ, 'a')\n",
    "    # coeffs = re.findall(r'\\d+', temp)\n",
    "    # retval = []\n",
    "    # for t in coeffs: \n",
    "    #     retval.append(eval(t))\n",
    "    return R(A).exponents()\n",
    "\n",
    "def get_Ordv_Alexander(A):\n",
    "    ordv = 0\n",
    "    alpha = get_degrees(A)\n",
    "    for i in range(1,len(alpha)):\n",
    "        diff = abs(alpha[i-1] - alpha[i])\n",
    "        ordv = max(ordv, diff)\n",
    "    return ordv\n",
    "\n",
    "def get_Ordv_laurent(P):\n",
    "    exp = P.exponents()\n",
    "    retVal = 0\n",
    "    for i in range(1, len(exp)):\n",
    "        if abs(exp[i] - exp[i-1]) > retVal: \n",
    "            retVal = abs(exp[i] - exp[i-1])\n",
    "    return retVal\n",
    "\n",
    "def get_Ordv_HFK(K):\n",
    "    L = snappy.Manifold(K).link()\n",
    "    F = PolynomialRing(Integers(2), 'v')\n",
    "    HFK = L.knot_floer_homology(complex=True)\n",
    "    return get_Ordv_from_complex(HFK)\n",
    "\n",
    "def get_Ordv_from_complex(HFK):\n",
    "    F = PolynomialRing(Integers(2), 'v')\n",
    "    diff = HFK['differentials'] #gens x gens \\mapsto <gens>\n",
    "    gens = HFK['generators'] #{i: (gr_A(i), gr_M(i))}\n",
    "    diff_v = {(i,j):F(diff[i,j]*F('v')^(gens[i][0]-gens[j][0])) for i, j in diff if gens[i][1] == gens[j][1] + 1}\n",
    "    mat_v = matrix(F, diff_v)\n",
    "    M = mat_v.elementary_divisors()\n",
    "    ord_v = 0\n",
    "    for i in M: \n",
    "        P = F(i)\n",
    "        if(str(i) == '0'): continue\n",
    "        deg = P.exponents()[-1]\n",
    "        ord_v = max(ord_v, deg)\n",
    "    # with open(\"Ord_v.csv\", \"a\") as output: #Opens output file # Use the a parameter to add a row\n",
    "    #     csvwriter = csv.writer(output, delimiter = \",\")\n",
    "    #     csvwriter.writerow((K, ord_v))\n",
    "    return ord_v\n",
    "\n",
    "def writhe(word):\n",
    "    '''Returns the writhe of a braid word.\n",
    "    author: Marc Kegel\n",
    "    '''\n",
    "    wr=0\n",
    "    for w in word:\n",
    "        wr=wr+sign(w)\n",
    "    return wr\n",
    "\n",
    "def cable(word,p,q):\n",
    "    '''Returns a braid word of the cable. (For positive p and arbitrary q.)\n",
    "    author: Marc Kegel\n",
    "    '''\n",
    "    cable_word=[]\n",
    "    for i in word:\n",
    "        subword=[]\n",
    "        for t in range(0,p):\n",
    "            subword=subword+list(range(p*abs(i)+t,p*(abs(i)-1)+t,-1))\n",
    "        if i<0:\n",
    "            subword=[-j for j in subword]\n",
    "        cable_word=cable_word+subword\n",
    "    wr=writhe(word)\n",
    "    if (q-p*wr)<0:\n",
    "        cable_word=cable_word+(p*wr-q)*list(range(-1,-(p-1)-1,-1))\n",
    "    if (q-p*wr)>=0:\n",
    "        cable_word=cable_word+(-p*wr+q)*list(range(1,(p-1)+1,+1))\n",
    "    return cable_word"
   ]
  },
  {
   "cell_type": "code",
   "execution_count": 3,
   "id": "2d2c8ff0-2c05-445b-b8b3-1fb3e6a11b55",
   "metadata": {},
   "outputs": [],
   "source": [
    "census = []\n",
    "with open('L_space_status.csv', newline='') as csvfile:\n",
    "    reader = csv.DictReader(csvfile, delimiter=',')\n",
    "    for row in reader:\n",
    "        census.append(str(row['knot']))"
   ]
  },
  {
   "cell_type": "code",
   "execution_count": 4,
   "id": "93b4b8e8-6238-4002-9a57-dde13e6917f4",
   "metadata": {},
   "outputs": [
    {
     "data": {
      "text/plain": [
       "o9_43443(0,0)"
      ]
     },
     "execution_count": 4,
     "metadata": {},
     "output_type": "execute_result"
    }
   ],
   "source": [
    "snappy.Manifold(census[1240])"
   ]
  },
  {
   "cell_type": "code",
   "execution_count": 5,
   "id": "0f5ed25b-b7ca-41e5-bf6d-c6b1df5e4694",
   "metadata": {},
   "outputs": [],
   "source": [
    "L_space = {'knot':'L_space'}\n",
    "with open('L_space_status.csv', newline='') as csvfile:\n",
    "    reader = csv.DictReader(csvfile, delimiter=',')\n",
    "    for row in reader:\n",
    "        L_space[str(row['knot'])] = eval(row['L-space knot'])"
   ]
  },
  {
   "cell_type": "code",
   "execution_count": 6,
   "id": "203cdf27-66b0-4c37-bbba-0a768396f393",
   "metadata": {},
   "outputs": [
    {
     "data": {
      "text/plain": [
       "False"
      ]
     },
     "execution_count": 6,
     "metadata": {},
     "output_type": "execute_result"
    }
   ],
   "source": [
    "L_space[census[1240]]"
   ]
  },
  {
   "cell_type": "code",
   "execution_count": 7,
   "id": "5fd6dbe5-69ce-41d6-9200-f2565f47383f",
   "metadata": {},
   "outputs": [],
   "source": [
    "genus_census = {'knot':'genus'}\n",
    "with open('3genus.csv', newline='') as csvfile:\n",
    "    reader = csv.DictReader(csvfile, delimiter=',')\n",
    "    for row in reader:\n",
    "        genus_census[str(row['knot'])] = eval(row['3-genus'])"
   ]
  },
  {
   "cell_type": "code",
   "execution_count": 8,
   "id": "d3ad5f68-23d9-4791-847f-26a7f53059c9",
   "metadata": {},
   "outputs": [
    {
     "data": {
      "text/plain": [
       "8"
      ]
     },
     "execution_count": 8,
     "metadata": {},
     "output_type": "execute_result"
    }
   ],
   "source": [
    "genus_census[census[1240]]"
   ]
  },
  {
   "cell_type": "code",
   "execution_count": 29,
   "id": "12afaefd-cd9d-43b2-adb0-04a297e34cc0",
   "metadata": {},
   "outputs": [
    {
     "name": "stderr",
     "output_type": "stream",
     "text": [
      "\n",
      "KeyboardInterrupt\n",
      "\n"
     ]
    }
   ],
   "source": [
    "'''\n",
    "Checking Theorem 1.1 using census L-space knots\n",
    "'''\n",
    "with open(\"Theorem_census.csv\", \"a\") as output: #Opens output file # Use the a parameter to add a row\n",
    "    csvwriter = csv.writer(output, delimiter = \",\")\n",
    "    csvwriter.writerow(('knot', 'p', 'q', 'Ord', 'Ordv_pq', 'result'))\n",
    "R.<t> = LaurentPolynomialRing(ZZ)\n",
    "for p in range(2, 10):\n",
    "    for k in census: \n",
    "        if not(L_space[k]):continue\n",
    "        bnd = p*(2*genus_census[k] - 1)\n",
    "        M = snappy.Manifold(k)\n",
    "        A = M.alexander_polynomial()\n",
    "        for i in range(1, 100):\n",
    "            q = bnd + i\n",
    "            if gcd(p,q) != 1: continue\n",
    "            Ord_v = get_Ordv_laurent(R(A(t)))\n",
    "            T_pq = R((t^(p*q) - 1)*(t - 1)/((t^p - 1)*(t^q - 1)))\n",
    "            A_pq = T_pq(t) * R(A(t^p))\n",
    "            Ordv_pq = get_Ordv_laurent(R(A_pq))\n",
    "            quot = ((p*(Ord_v + 1)) == (Ordv_pq+1))\n",
    "            #print(k, p, q, Ord_v, Ordv_pq, quot)\n",
    "            with open(\"Theorem_census.csv\", \"a\") as output: #Opens output file # Use the a parameter to add a row\n",
    "                csvwriter = csv.writer(output, delimiter = \",\")\n",
    "                csvwriter.writerow((k, p, q, Ord_v, Ordv_pq, quot))"
   ]
  },
  {
   "cell_type": "code",
   "execution_count": 35,
   "id": "5a480985-a23b-4251-bbc2-ec4d9f8d364d",
   "metadata": {},
   "outputs": [],
   "source": [
    "with open(\"Theorem_HTLinkExteriors.csv\", \"a\") as output: #Opens output file # Use the a parameter to add a row\n",
    "    csvwriter = csv.writer(output, delimiter = \",\")\n",
    "    csvwriter.writerow(('knot', 'p', 'q', 'Ord', 'Ordv_pq', 'result'))\n",
    "R.<t> = LaurentPolynomialRing(ZZ)\n",
    "for p in range(2,10):\n",
    "    for M in snappy.HTLinkExteriors(knots_vs_links='knots'): \n",
    "        K = M.link()\n",
    "        HFK = K.knot_floer_homology()\n",
    "        if (not(HFK['L_space_knot'])) or HFK['seifert_genus'] == 1: continue\n",
    "        bnd = p*(2*HFK['seifert_genus'] - 1)\n",
    "        A = M.alexander_polynomial()\n",
    "        for i in range(1, 100):\n",
    "            q = bnd + i\n",
    "            if gcd(p,q) != 1: continue\n",
    "            Ord_v = get_Ordv_laurent(R(A(t)))\n",
    "            T_pq = R((t^(p*q) - 1)*(t - 1)/((t^p - 1)*(t^q - 1)))\n",
    "            A_pq = T_pq(t) * R(A(t^p))\n",
    "            Ordv_pq = get_Ordv_laurent(R(A_pq))\n",
    "            quot = ((p*(Ord_v + 1)) == (Ordv_pq+1))\n",
    "            #print(k, p, q, Ord_v, Ordv_pq, quot)\n",
    "            with open(\"Theorem_HTLinkExteriors.csv\", \"a\") as output: #Opens output file # Use the a parameter to add a row\n",
    "                csvwriter = csv.writer(output, delimiter = \",\")\n",
    "                csvwriter.writerow((M.name(), p, q, Ord_v, Ordv_pq, quot))"
   ]
  },
  {
   "cell_type": "code",
   "execution_count": 34,
   "id": "42525587-282a-49f3-85e1-138db664ecff",
   "metadata": {},
   "outputs": [],
   "source": [
    "'''\n",
    "Checking Theorem 1.3 for trefoil\n",
    "'''\n",
    "with open(\"Theorem_T23.csv\", \"a\") as output: #Opens output file # Use the a parameter to add a row\n",
    "    csvwriter = csv.writer(output, delimiter = \",\")\n",
    "    csvwriter.writerow(('p', 'q', 'Ord', 'Ordv_pq', 'Result'))\n",
    "R.<t> = LaurentPolynomialRing(ZZ)\n",
    "M = snappy.Manifold('3_1')\n",
    "A = M.alexander_polynomial()\n",
    "for p in range(2, 10):\n",
    "    for i in range(1, 100):\n",
    "        q = p + i #p(2*g - 1) = p(2-1) = p\n",
    "        if(gcd(p,q) != 1):continue\n",
    "        Ord_v = get_Ordv_laurent(R(A(t)))\n",
    "        T_pq = R(t^(p*q) - 1)*(t - 1)/((t^p - 1)*(t^q - 1))\n",
    "        A_pq = T_pq(t) * A(t^p)\n",
    "        Ordv_pq = get_Ordv_laurent(R(A_pq))\n",
    "        quot = ((p*(Ord_v + 1)) == (Ordv_pq+1))\n",
    "        quot_less = (p + q%p - 1) == (Ordv_pq)\n",
    "        #print('3_1', p, q, Ord_v, Ordv_pq, quot)\n",
    "        with open(\"Theorem_T23.csv\", \"a\") as output: #Opens output file # Use the a parameter to add a row\n",
    "            csvwriter = csv.writer(output, delimiter = \",\")\n",
    "            if q > 2*p: \n",
    "                csvwriter.writerow((p, q, Ord_v, Ordv_pq, quot))\n",
    "            else: \n",
    "                csvwriter.writerow((p, q, Ord_v, Ordv_pq, quot_less))"
   ]
  },
  {
   "cell_type": "code",
   "execution_count": 43,
   "id": "32358e9f-d5d7-47bc-8fba-37ac1622d272",
   "metadata": {},
   "outputs": [
    {
     "ename": "KeyboardInterrupt",
     "evalue": "",
     "output_type": "error",
     "traceback": [
      "\u001b[0;31m---------------------------------------------------------------------------\u001b[0m",
      "\u001b[0;31mKeyboardInterrupt\u001b[0m                         Traceback (most recent call last)",
      "Cell \u001b[0;32mIn[43], line 21\u001b[0m\n\u001b[1;32m     19\u001b[0m K_pq\u001b[38;5;241m.\u001b[39msimplify(\u001b[38;5;124m'\u001b[39m\u001b[38;5;124mglobal\u001b[39m\u001b[38;5;124m'\u001b[39m)\n\u001b[1;32m     20\u001b[0m HFK_pq \u001b[38;5;241m=\u001b[39m K_pq\u001b[38;5;241m.\u001b[39mknot_floer_homology(\u001b[38;5;28mcomplex\u001b[39m\u001b[38;5;241m=\u001b[39m\u001b[38;5;28;01mTrue\u001b[39;00m)\n\u001b[0;32m---> 21\u001b[0m Ord_pq \u001b[38;5;241m=\u001b[39m \u001b[43mget_Ordv_from_complex\u001b[49m\u001b[43m(\u001b[49m\u001b[43mHFK_pq\u001b[49m\u001b[43m)\u001b[49m\n\u001b[1;32m     22\u001b[0m result \u001b[38;5;241m=\u001b[39m ((Ord_pq\u001b[38;5;241m+\u001b[39mInteger(\u001b[38;5;241m1\u001b[39m)) \u001b[38;5;241m/\u001b[39m (Ord\u001b[38;5;241m+\u001b[39mInteger(\u001b[38;5;241m1\u001b[39m)) \u001b[38;5;241m==\u001b[39m p)\n\u001b[1;32m     23\u001b[0m \u001b[38;5;28;01mwith\u001b[39;00m \u001b[38;5;28mopen\u001b[39m(\u001b[38;5;124m\"\u001b[39m\u001b[38;5;124mQuestion_mult_low_crossing.csv\u001b[39m\u001b[38;5;124m\"\u001b[39m, \u001b[38;5;124m\"\u001b[39m\u001b[38;5;124ma\u001b[39m\u001b[38;5;124m\"\u001b[39m) \u001b[38;5;28;01mas\u001b[39;00m output: \u001b[38;5;66;03m#Opens output file # Use the a parameter to add a row\u001b[39;00m\n",
      "Cell \u001b[0;32mIn[21], line 39\u001b[0m, in \u001b[0;36mget_Ordv_from_complex\u001b[0;34m(HFK)\u001b[0m\n\u001b[1;32m     37\u001b[0m diff_v \u001b[38;5;241m=\u001b[39m {(i,j):F(diff[i,j]\u001b[38;5;241m*\u001b[39mF(\u001b[38;5;124m'\u001b[39m\u001b[38;5;124mv\u001b[39m\u001b[38;5;124m'\u001b[39m)\u001b[38;5;241m*\u001b[39m\u001b[38;5;241m*\u001b[39m(gens[i][Integer(\u001b[38;5;241m0\u001b[39m)]\u001b[38;5;241m-\u001b[39mgens[j][Integer(\u001b[38;5;241m0\u001b[39m)])) \u001b[38;5;28;01mfor\u001b[39;00m i, j \u001b[38;5;129;01min\u001b[39;00m diff \u001b[38;5;28;01mif\u001b[39;00m gens[i][Integer(\u001b[38;5;241m1\u001b[39m)] \u001b[38;5;241m==\u001b[39m gens[j][Integer(\u001b[38;5;241m1\u001b[39m)] \u001b[38;5;241m+\u001b[39m Integer(\u001b[38;5;241m1\u001b[39m)}\n\u001b[1;32m     38\u001b[0m mat_v \u001b[38;5;241m=\u001b[39m matrix(F, diff_v)\n\u001b[0;32m---> 39\u001b[0m M \u001b[38;5;241m=\u001b[39m \u001b[43mmat_v\u001b[49m\u001b[38;5;241;43m.\u001b[39;49m\u001b[43melementary_divisors\u001b[49m\u001b[43m(\u001b[49m\u001b[43m)\u001b[49m\n\u001b[1;32m     40\u001b[0m ord_v \u001b[38;5;241m=\u001b[39m Integer(\u001b[38;5;241m0\u001b[39m)\n\u001b[1;32m     41\u001b[0m \u001b[38;5;28;01mfor\u001b[39;00m i \u001b[38;5;129;01min\u001b[39;00m M: \n",
      "File \u001b[0;32m~/miniforge3/envs/sage/lib/python3.12/site-packages/sage/matrix/matrix2.pyx:15956\u001b[0m, in \u001b[0;36msage.matrix.matrix2.Matrix.elementary_divisors (build/cythonized/sage/matrix/matrix2.c:119215)\u001b[0;34m()\u001b[0m\n\u001b[1;32m  15954\u001b[0m    :meth:`smith_form`\n\u001b[1;32m  15955\u001b[0m \"\"\"\n\u001b[0;32m> 15956\u001b[0m d = self.smith_form(transformation=False)\n\u001b[1;32m  15957\u001b[0m r = min(self.nrows(), self.ncols())\n\u001b[1;32m  15958\u001b[0m return [d[i, i] for i in range(r)]\n",
      "File \u001b[0;32m~/miniforge3/envs/sage/lib/python3.12/site-packages/sage/matrix/matrix2.pyx:16189\u001b[0m, in \u001b[0;36msage.matrix.matrix2.Matrix.smith_form (build/cythonized/sage/matrix/matrix2.c:120670)\u001b[0;34m()\u001b[0m\n\u001b[1;32m  16187\u001b[0m     dd, uu, vv = mm.smith_form(transformation=True)\n\u001b[1;32m  16188\u001b[0m else:\n\u001b[0;32m> 16189\u001b[0m     dd = mm.smith_form(transformation=False)\n\u001b[1;32m  16190\u001b[0m d = dd.new_matrix(1, 1, [t[0, 0]]).block_sum(dd)\n\u001b[1;32m  16191\u001b[0m if transformation:\n",
      "File \u001b[0;32m~/miniforge3/envs/sage/lib/python3.12/site-packages/sage/matrix/matrix2.pyx:16189\u001b[0m, in \u001b[0;36msage.matrix.matrix2.Matrix.smith_form (build/cythonized/sage/matrix/matrix2.c:120670)\u001b[0;34m()\u001b[0m\n\u001b[1;32m  16187\u001b[0m     dd, uu, vv = mm.smith_form(transformation=True)\n\u001b[1;32m  16188\u001b[0m else:\n\u001b[0;32m> 16189\u001b[0m     dd = mm.smith_form(transformation=False)\n\u001b[1;32m  16190\u001b[0m d = dd.new_matrix(1, 1, [t[0, 0]]).block_sum(dd)\n\u001b[1;32m  16191\u001b[0m if transformation:\n",
      "    \u001b[0;31m[... skipping similar frames: sage.matrix.matrix2.Matrix.smith_form (build/cythonized/sage/matrix/matrix2.c:120670) at line 16189 (5 times)]\u001b[0m\n",
      "File \u001b[0;32m~/miniforge3/envs/sage/lib/python3.12/site-packages/sage/matrix/matrix2.pyx:16189\u001b[0m, in \u001b[0;36msage.matrix.matrix2.Matrix.smith_form (build/cythonized/sage/matrix/matrix2.c:120670)\u001b[0;34m()\u001b[0m\n\u001b[1;32m  16187\u001b[0m     dd, uu, vv = mm.smith_form(transformation=True)\n\u001b[1;32m  16188\u001b[0m else:\n\u001b[0;32m> 16189\u001b[0m     dd = mm.smith_form(transformation=False)\n\u001b[1;32m  16190\u001b[0m d = dd.new_matrix(1, 1, [t[0, 0]]).block_sum(dd)\n\u001b[1;32m  16191\u001b[0m if transformation:\n",
      "File \u001b[0;32m~/miniforge3/envs/sage/lib/python3.12/site-packages/sage/matrix/matrix2.pyx:16181\u001b[0m, in \u001b[0;36msage.matrix.matrix2.Matrix.smith_form (build/cythonized/sage/matrix/matrix2.c:120482)\u001b[0;34m()\u001b[0m\n\u001b[1;32m  16179\u001b[0m \n\u001b[1;32m  16180\u001b[0m         # first clear the first row and column\n\u001b[0;32m> 16181\u001b[0m         u, t, v = _smith_onestep(self)\n\u001b[1;32m  16182\u001b[0m \n\u001b[1;32m  16183\u001b[0m         # now recurse: t now has a nonzero entry at 0,0 and zero entries in the rest\n",
      "File \u001b[0;32m~/miniforge3/envs/sage/lib/python3.12/site-packages/sage/matrix/matrix2.pyx:18594\u001b[0m, in \u001b[0;36msage.matrix.matrix2._smith_onestep (build/cythonized/sage/matrix/matrix2.c:141330)\u001b[0;34m()\u001b[0m\n\u001b[1;32m  18592\u001b[0m         raise ArithmeticError\n\u001b[1;32m  18593\u001b[0m \n\u001b[0;32m> 18594\u001b[0m left_mat, a = _generic_clear_column(a)\n\u001b[1;32m  18595\u001b[0m assert left_mat * m * right_mat == a\n\u001b[1;32m  18596\u001b[0m \n",
      "File \u001b[0;32m~/miniforge3/envs/sage/lib/python3.12/site-packages/sage/matrix/matrix2.pyx:18535\u001b[0m, in \u001b[0;36msage.matrix.matrix2._generic_clear_column (build/cythonized/sage/matrix/matrix2.c:140217)\u001b[0;34m()\u001b[0m\n\u001b[1;32m  18533\u001b[0m newlmat[k, 0] = e\n\u001b[1;32m  18534\u001b[0m newlmat[k, k] = f\n\u001b[0;32m> 18535\u001b[0m if newlmat.det() != 1:\n\u001b[1;32m  18536\u001b[0m     raise ArithmeticError\n\u001b[1;32m  18537\u001b[0m a = newlmat*a\n",
      "File \u001b[0;32m~/miniforge3/envs/sage/lib/python3.12/site-packages/sage/matrix/matrix2.pyx:2131\u001b[0m, in \u001b[0;36msage.matrix.matrix2.Matrix.det (build/cythonized/sage/matrix/matrix2.c:25322)\u001b[0;34m()\u001b[0m\n\u001b[1;32m   2129\u001b[0m         6\n\u001b[1;32m   2130\u001b[0m     \"\"\"\n\u001b[0;32m-> 2131\u001b[0m     return self.determinant(*args, **kwds)\n\u001b[1;32m   2132\u001b[0m \n\u001b[1;32m   2133\u001b[0m def determinant(self, algorithm=None):\n",
      "File \u001b[0;32m~/miniforge3/envs/sage/lib/python3.12/site-packages/sage/matrix/matrix_sparse.pyx:567\u001b[0m, in \u001b[0;36msage.matrix.matrix_sparse.Matrix_sparse.determinant (build/cythonized/sage/matrix/matrix_sparse.c:13493)\u001b[0;34m()\u001b[0m\n\u001b[1;32m    565\u001b[0m if d is not None:\n\u001b[1;32m    566\u001b[0m     return d\n\u001b[0;32m--> 567\u001b[0m d = self.dense_matrix().determinant(**kwds)\n\u001b[1;32m    568\u001b[0m self.cache('det', d)\n\u001b[1;32m    569\u001b[0m return d\n",
      "File \u001b[0;32m~/miniforge3/envs/sage/lib/python3.12/site-packages/sage/matrix/matrix2.pyx:2340\u001b[0m, in \u001b[0;36msage.matrix.matrix2.Matrix.determinant (build/cythonized/sage/matrix/matrix2.c:27014)\u001b[0;34m()\u001b[0m\n\u001b[1;32m   2338\u001b[0m var = 'A0123456789' if isinstance(R, sage.rings.abc.SymbolicRing) else 'x'\n\u001b[1;32m   2339\u001b[0m try:\n\u001b[0;32m-> 2340\u001b[0m     charp = self.charpoly(var, algorithm='df')\n\u001b[1;32m   2341\u001b[0m except ValueError:\n\u001b[1;32m   2342\u001b[0m     # Division free algorithm not supported, so we use whatever the default algorithm is.\n",
      "File \u001b[0;32m~/miniforge3/envs/sage/lib/python3.12/site-packages/sage/matrix/matrix2.pyx:3239\u001b[0m, in \u001b[0;36msage.matrix.matrix2.Matrix.charpoly (build/cythonized/sage/matrix/matrix2.c:34872)\u001b[0;34m()\u001b[0m\n\u001b[1;32m   3237\u001b[0m     f = self._charpoly_hessenberg(var)\n\u001b[1;32m   3238\u001b[0m elif algorithm == \"df\":\n\u001b[0;32m-> 3239\u001b[0m     f = self._charpoly_df(var)\n\u001b[1;32m   3240\u001b[0m else:\n\u001b[1;32m   3241\u001b[0m     raise ValueError('algorithm must be \"hessenberg\" or \"df\"')\n",
      "File \u001b[0;32m~/miniforge3/envs/sage/lib/python3.12/site-packages/sage/matrix/matrix2.pyx:3394\u001b[0m, in \u001b[0;36msage.matrix.matrix2.Matrix._charpoly_df (build/cythonized/sage/matrix/matrix2.c:36392)\u001b[0;34m()\u001b[0m\n\u001b[1;32m   3392\u001b[0m \n\u001b[1;32m   3393\u001b[0m         X = S.gen(0)\n\u001b[0;32m-> 3394\u001b[0m         f = X**n + S(list(reversed(F)))\n\u001b[1;32m   3395\u001b[0m \n\u001b[1;32m   3396\u001b[0m         return f\n",
      "File \u001b[0;32m~/miniforge3/envs/sage/lib/python3.12/site-packages/sage/rings/polynomial/polynomial_element.pyx:2912\u001b[0m, in \u001b[0;36msage.rings.polynomial.polynomial_element.Polynomial.__pow__ (build/cythonized/sage/rings/polynomial/polynomial_element.c:37812)\u001b[0;34m()\u001b[0m\n\u001b[1;32m   2910\u001b[0m P = self._parent\n\u001b[1;32m   2911\u001b[0m R = P._base\n\u001b[0;32m-> 2912\u001b[0m if P.is_sparse():\n\u001b[1;32m   2913\u001b[0m     v = {right: R.one()}\n\u001b[1;32m   2914\u001b[0m else:\n",
      "File \u001b[0;32m~/miniforge3/envs/sage/lib/python3.12/site-packages/sage/rings/polynomial/polynomial_ring.py:1309\u001b[0m, in \u001b[0;36mPolynomialRing_general.is_sparse\u001b[0;34m(self)\u001b[0m\n\u001b[1;32m   1296\u001b[0m \u001b[38;5;250m    \u001b[39m\u001b[38;5;124;03m\"\"\"\u001b[39;00m\n\u001b[1;32m   1297\u001b[0m \u001b[38;5;124;03m    Return ``False``, since polynomial rings are never fields.\u001b[39;00m\n\u001b[1;32m   1298\u001b[0m \n\u001b[0;32m   (...)\u001b[0m\n\u001b[1;32m   1305\u001b[0m \u001b[38;5;124;03m        False\u001b[39;00m\n\u001b[1;32m   1306\u001b[0m \u001b[38;5;124;03m    \"\"\"\u001b[39;00m\n\u001b[1;32m   1307\u001b[0m     \u001b[38;5;28;01mreturn\u001b[39;00m \u001b[38;5;28;01mFalse\u001b[39;00m\n\u001b[0;32m-> 1309\u001b[0m \u001b[38;5;28;01mdef\u001b[39;00m\u001b[38;5;250m \u001b[39m\u001b[38;5;21mis_sparse\u001b[39m(\u001b[38;5;28mself\u001b[39m):\n\u001b[1;32m   1310\u001b[0m \u001b[38;5;250m    \u001b[39m\u001b[38;5;124;03m\"\"\"\u001b[39;00m\n\u001b[1;32m   1311\u001b[0m \u001b[38;5;124;03m    Return ``True`` if elements of this polynomial ring have a sparse\u001b[39;00m\n\u001b[1;32m   1312\u001b[0m \u001b[38;5;124;03m    representation.\u001b[39;00m\n\u001b[0;32m   (...)\u001b[0m\n\u001b[1;32m   1323\u001b[0m \u001b[38;5;124;03m        True\u001b[39;00m\n\u001b[1;32m   1324\u001b[0m \u001b[38;5;124;03m    \"\"\"\u001b[39;00m\n\u001b[1;32m   1325\u001b[0m     \u001b[38;5;28;01mreturn\u001b[39;00m \u001b[38;5;28mself\u001b[39m\u001b[38;5;241m.\u001b[39m__is_sparse\n",
      "File \u001b[0;32msignals.pyx:355\u001b[0m, in \u001b[0;36mcysignals.signals.python_check_interrupt\u001b[0;34m()\u001b[0m\n",
      "\u001b[0;31mKeyboardInterrupt\u001b[0m: "
     ]
    }
   ],
   "source": [
    "with open(\"Question_mult_low_crossing.csv\", \"a\") as output: #Opens output file # Use the a parameter to add a row\n",
    "    csvwriter = csv.writer(output, delimiter = \",\")\n",
    "    csvwriter.writerow(('knot', 'p', 'q', 'Ord', 'Ordv_pq', 'Result'))\n",
    "\n",
    "for p in range(2,5): \n",
    "    for M in snappy.HTLinkExteriors(knots_vs_links='knots'): \n",
    "        K = M.link()\n",
    "        bw = K.braid_word()\n",
    "        HFK = K.knot_floer_homology(complex=True)\n",
    "        Ord = get_Ordv_from_complex(HFK)\n",
    "        if HFK['L_space_knot']:continue\n",
    "        g = HFK['seifert_genus']\n",
    "        bnd = p*(2*g - 1)\n",
    "        Ord = get_Ordv_from_complex(HFK)\n",
    "        for i in range(1, 10):\n",
    "            q = bnd + i\n",
    "            if(gcd(p,q) != 1): continue\n",
    "            K_pq = snappy.Link(braid_closure = cable(bw, p,q))\n",
    "            K_pq.simplify('global')\n",
    "            HFK_pq = K_pq.knot_floer_homology(complex=True)\n",
    "            Ord_pq = get_Ordv_from_complex(HFK_pq)\n",
    "            result = ((Ord_pq+1) / (Ord+1) == p)\n",
    "            with open(\"Question_mult_low_crossing.csv\", \"a\") as output: #Opens output file # Use the a parameter to add a row\n",
    "                csvwriter = csv.writer(output, delimiter = \",\")\n",
    "                csvwriter.writerow((M.name(), p, q, Ord, Ord_pq, result))"
   ]
  },
  {
   "cell_type": "code",
   "execution_count": null,
   "id": "3f7b8e7c-b981-42bf-a9d4-544da1e50e34",
   "metadata": {},
   "outputs": [],
   "source": [
    "with open(\"Question_mult_census.csv\", \"a\") as output: #Opens output file # Use the a parameter to add a row\n",
    "    csvwriter = csv.writer(output, delimiter = \",\")\n",
    "    csvwriter.writerow(('knot','p', 'q', 'Ord', 'Ordv_pq', 'Result'))\n",
    "\n",
    "for p in range(2,5): \n",
    "    for w in words: \n",
    "        bw = w[1]\n",
    "        K = snappy.Link(braid_closure = bw)\n",
    "        K.simplify('global')\n",
    "        HFK = K.knot_floer_homology(complex=True)\n",
    "        Ord = get_Ordv_from_complex(HFK)\n",
    "        if HFK['L_space_knot']:continue\n",
    "        g = HFK['seifert_genus']\n",
    "        bnd = p*(2*g - 1)\n",
    "        Ord = get_Ordv_from_complex(HFK)\n",
    "        for i in range(1, 10):\n",
    "            q = bnd + i\n",
    "            if(gcd(p,q) != 1): continue\n",
    "            K_pq = snappy.Link(braid_closure = cable(bw, p,q))\n",
    "            K_pq.simplify('global')\n",
    "            HFK_pq = K_pq.knot_floer_homology(complex=True)\n",
    "            Ord_pq = get_Ordv_from_complex(HFK_pq)\n",
    "            result = ((Ord_pq+1) / (Ord+1) == p)\n",
    "            # print(w[0], p, q, Ord, Ord_pq, result)\n",
    "            with open(\"Question_mult_census.csv\", \"a\") as output: #Opens output file # Use the a parameter to add a row\n",
    "                csvwriter = csv.writer(output, delimiter = \",\")\n",
    "                csvwriter.writerow((w[0], p, q, Ord, Ord_pq, result))"
   ]
  },
  {
   "cell_type": "code",
   "execution_count": null,
   "id": "d79a2759-2a57-477c-9920-f8a76249ed42",
   "metadata": {},
   "outputs": [],
   "source": []
  }
 ],
 "metadata": {
  "kernelspec": {
   "display_name": "SageMath 10.5",
   "language": "sage",
   "name": "sagemath"
  },
  "language_info": {
   "codemirror_mode": {
    "name": "ipython",
    "version": 3
   },
   "file_extension": ".py",
   "mimetype": "text/x-python",
   "name": "python",
   "nbconvert_exporter": "python",
   "pygments_lexer": "ipython3",
   "version": "3.12.8"
  }
 },
 "nbformat": 4,
 "nbformat_minor": 5
}
