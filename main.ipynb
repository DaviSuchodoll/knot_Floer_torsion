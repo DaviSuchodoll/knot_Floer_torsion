{
 "cells": [
  {
   "cell_type": "code",
   "execution_count": 1,
   "id": "2fee5977-0308-4a05-86ec-ce0f1f97257f",
   "metadata": {},
   "outputs": [],
   "source": [
    "import snappy\n",
    "import csv"
   ]
  },
  {
   "cell_type": "code",
   "execution_count": 2,
   "id": "795b36b5-9fa3-485d-bc59-6205b3d33c2a",
   "metadata": {},
   "outputs": [],
   "source": [
    "def get_degrees(A): \n",
    "#     temp = str(A).replace(' 1', ' a^0')\n",
    "#     temp = temp.replace(' a ', ' a^1 ')\n",
    "    R.<a> = LaurentPolynomialRing(ZZ, 'a')\n",
    "    # coeffs = re.findall(r'\\d+', temp)\n",
    "    # retval = []\n",
    "    # for t in coeffs: \n",
    "    #     retval.append(eval(t))\n",
    "    return R(A).exponents()\n",
    "\n",
    "def get_Ordv_Alexander(A):\n",
    "    ordv = 0\n",
    "    alpha = get_degrees(A)\n",
    "    for i in range(1,len(alpha)):\n",
    "        diff = abs(alpha[i-1] - alpha[i])\n",
    "        ordv = max(ordv, diff)\n",
    "    return ordv\n",
    "\n",
    "def get_Ordv_laurent(P):\n",
    "    exp = P.exponents()\n",
    "    retVal = 0\n",
    "    for i in range(1, len(exp)):\n",
    "        if abs(exp[i] - exp[i-1]) > retVal: \n",
    "            retVal = abs(exp[i] - exp[i-1])\n",
    "    return retVal\n",
    "\n",
    "def get_Ordv_HFK(K):\n",
    "    L = snappy.Manifold(K).link()\n",
    "    F = PolynomialRing(Integers(2), 'v')\n",
    "    HFK = L.knot_floer_homology(complex=True)\n",
    "    diff = HFK['differentials'] #gens x gens \\mapsto <gens>\n",
    "    gens = HFK['generators'] #{i: (gr_A(i), gr_M(i))}\n",
    "    diff_v = {(i,j):F(diff[i,j]*F('v')^(gens[i][0]-gens[j][0])) for i, j in diff if gens[i][1] == gens[j][1] + 1}\n",
    "    mat_v = matrix(F, diff_v)\n",
    "    M = mat_v.elementary_divisors()\n",
    "    ord_v = 0\n",
    "    for i in M: \n",
    "        P = F(i)\n",
    "        if(str(i) == '0'): continue\n",
    "        deg = P.exponents()[-1]\n",
    "        ord_v = max(ord_v, deg)\n",
    "    with open(\"Ord_v.csv\", \"a\") as output: #Opens output file # Use the a parameter to add a row\n",
    "        csvwriter = csv.writer(output, delimiter = \",\")\n",
    "        csvwriter.writerow((K, ord_v))\n",
    "    return ord_v"
   ]
  },
  {
   "cell_type": "code",
   "execution_count": 3,
   "id": "2d2c8ff0-2c05-445b-b8b3-1fb3e6a11b55",
   "metadata": {},
   "outputs": [],
   "source": [
    "census = []\n",
    "with open('L_space_status.csv', newline='') as csvfile:\n",
    "    reader = csv.DictReader(csvfile, delimiter=',')\n",
    "    for row in reader:\n",
    "        census.append(str(row['knot']))"
   ]
  },
  {
   "cell_type": "code",
   "execution_count": 8,
   "id": "93b4b8e8-6238-4002-9a57-dde13e6917f4",
   "metadata": {},
   "outputs": [
    {
     "data": {
      "text/plain": [
       "o9_43443(0,0)"
      ]
     },
     "execution_count": 8,
     "metadata": {},
     "output_type": "execute_result"
    }
   ],
   "source": [
    "snappy.Manifold(census[1240])"
   ]
  },
  {
   "cell_type": "code",
   "execution_count": 10,
   "id": "0f5ed25b-b7ca-41e5-bf6d-c6b1df5e4694",
   "metadata": {},
   "outputs": [],
   "source": [
    "L_space = {'knot':'L_space'}\n",
    "with open('L_space_status.csv', newline='') as csvfile:\n",
    "    reader = csv.DictReader(csvfile, delimiter=',')\n",
    "    for row in reader:\n",
    "        L_space[str(row['knot'])] = eval(row['L-space knot'])"
   ]
  },
  {
   "cell_type": "code",
   "execution_count": 11,
   "id": "203cdf27-66b0-4c37-bbba-0a768396f393",
   "metadata": {},
   "outputs": [
    {
     "data": {
      "text/plain": [
       "False"
      ]
     },
     "execution_count": 11,
     "metadata": {},
     "output_type": "execute_result"
    }
   ],
   "source": [
    "L_space[census[1240]]"
   ]
  },
  {
   "cell_type": "code",
   "execution_count": 18,
   "id": "5fd6dbe5-69ce-41d6-9200-f2565f47383f",
   "metadata": {},
   "outputs": [],
   "source": [
    "genus_census = {'knot':'genus'}\n",
    "with open('3genus.csv', newline='') as csvfile:\n",
    "    reader = csv.DictReader(csvfile, delimiter=',')\n",
    "    for row in reader:\n",
    "        genus_census[str(row['knot'])] = eval(row['3-genus'])"
   ]
  },
  {
   "cell_type": "code",
   "execution_count": 19,
   "id": "d3ad5f68-23d9-4791-847f-26a7f53059c9",
   "metadata": {},
   "outputs": [
    {
     "data": {
      "text/plain": [
       "8"
      ]
     },
     "execution_count": 19,
     "metadata": {},
     "output_type": "execute_result"
    }
   ],
   "source": [
    "genus_census[census[1240]]"
   ]
  },
  {
   "cell_type": "code",
   "execution_count": 38,
   "id": "12afaefd-cd9d-43b2-adb0-04a297e34cc0",
   "metadata": {},
   "outputs": [
    {
     "ename": "KeyboardInterrupt",
     "evalue": "",
     "output_type": "error",
     "traceback": [
      "\u001b[0;31m---------------------------------------------------------------------------\u001b[0m",
      "\u001b[0;31mKeyboardInterrupt\u001b[0m                         Traceback (most recent call last)",
      "Cell \u001b[0;32mIn[38], line 19\u001b[0m\n\u001b[1;32m     17\u001b[0m Ord_v \u001b[38;5;241m=\u001b[39m get_Ordv_laurent(R(A(t)))\n\u001b[1;32m     18\u001b[0m T_pq \u001b[38;5;241m=\u001b[39m R((t\u001b[38;5;241m*\u001b[39m\u001b[38;5;241m*\u001b[39m(p\u001b[38;5;241m*\u001b[39mq) \u001b[38;5;241m-\u001b[39m Integer(\u001b[38;5;241m1\u001b[39m))\u001b[38;5;241m*\u001b[39m(t \u001b[38;5;241m-\u001b[39m Integer(\u001b[38;5;241m1\u001b[39m))\u001b[38;5;241m/\u001b[39m((t\u001b[38;5;241m*\u001b[39m\u001b[38;5;241m*\u001b[39mp \u001b[38;5;241m-\u001b[39m Integer(\u001b[38;5;241m1\u001b[39m))\u001b[38;5;241m*\u001b[39m(t\u001b[38;5;241m*\u001b[39m\u001b[38;5;241m*\u001b[39mq \u001b[38;5;241m-\u001b[39m Integer(\u001b[38;5;241m1\u001b[39m))))\n\u001b[0;32m---> 19\u001b[0m A_pq \u001b[38;5;241m=\u001b[39m \u001b[43mT_pq\u001b[49m\u001b[43m(\u001b[49m\u001b[43mt\u001b[49m\u001b[43m)\u001b[49m \u001b[38;5;241m*\u001b[39m R(A(t\u001b[38;5;241m*\u001b[39m\u001b[38;5;241m*\u001b[39mp))\n\u001b[1;32m     20\u001b[0m Ordv_pq \u001b[38;5;241m=\u001b[39m get_Ordv_laurent(R(A_pq))\n\u001b[1;32m     21\u001b[0m quot \u001b[38;5;241m=\u001b[39m ((p\u001b[38;5;241m*\u001b[39m(Ord_v \u001b[38;5;241m+\u001b[39m Integer(\u001b[38;5;241m1\u001b[39m))) \u001b[38;5;241m==\u001b[39m (Ordv_pq\u001b[38;5;241m+\u001b[39mInteger(\u001b[38;5;241m1\u001b[39m)))\n",
      "File \u001b[0;32m~/miniforge3/envs/sage/lib/python3.12/site-packages/sage/rings/polynomial/laurent_polynomial.pyx:2064\u001b[0m, in \u001b[0;36msage.rings.polynomial.laurent_polynomial.LaurentPolynomial_univariate.__call__ (build/cythonized/sage/rings/polynomial/laurent_polynomial.c:26459)\u001b[0;34m()\u001b[0m\n\u001b[1;32m   2062\u001b[0m     if isinstance(x[0], tuple):\n\u001b[1;32m   2063\u001b[0m         x = x[0]\n\u001b[0;32m-> 2064\u001b[0m     return self.__u(x) * (x[0]**self.__n)\n\u001b[1;32m   2065\u001b[0m \n\u001b[1;32m   2066\u001b[0m def factor(self):\n",
      "File \u001b[0;32m~/miniforge3/envs/sage/lib/python3.12/site-packages/sage/rings/polynomial/polynomial_integer_dense_flint.pyx:472\u001b[0m, in \u001b[0;36msage.rings.polynomial.polynomial_integer_dense_flint.Polynomial_integer_dense_flint.__call__ (build/cythonized/sage/rings/polynomial/polynomial_integer_dense_flint.cpp:14747)\u001b[0;34m()\u001b[0m\n\u001b[1;32m    470\u001b[0m             return acb_z\n\u001b[1;32m    471\u001b[0m \n\u001b[0;32m--> 472\u001b[0m     return Polynomial.__call__(self, *x, **kwds)\n\u001b[1;32m    473\u001b[0m \n\u001b[1;32m    474\u001b[0m cpdef Integer content(self):\n",
      "File \u001b[0;32m~/miniforge3/envs/sage/lib/python3.12/site-packages/sage/rings/polynomial/polynomial_element.pyx:923\u001b[0m, in \u001b[0;36msage.rings.polynomial.polynomial_element.Polynomial.__call__ (build/cythonized/sage/rings/polynomial/polynomial_element.c:21098)\u001b[0;34m()\u001b[0m\n\u001b[1;32m    921\u001b[0m             return result\n\u001b[1;32m    922\u001b[0m         pol._compiled = CompiledPolynomialFunction(pol.list())\n\u001b[0;32m--> 923\u001b[0m     return pol._compiled.eval(a)\n\u001b[1;32m    924\u001b[0m \n\u001b[1;32m    925\u001b[0m def compose_trunc(self, Polynomial other, long n):\n",
      "File \u001b[0;32m~/miniforge3/envs/sage/lib/python3.12/site-packages/sage/rings/polynomial/polynomial_compiled.pyx:124\u001b[0m, in \u001b[0;36msage.rings.polynomial.polynomial_compiled.CompiledPolynomialFunction.eval (build/cythonized/sage/rings/polynomial/polynomial_compiled.c:3709)\u001b[0;34m()\u001b[0m\n\u001b[1;32m    122\u001b[0m cdef object temp\n\u001b[1;32m    123\u001b[0m try:\n\u001b[0;32m--> 124\u001b[0m     pd_eval(self._dag, x, self._coeffs)  #see further down\n\u001b[1;32m    125\u001b[0m     temp = self._dag.value               #for an explanation\n\u001b[1;32m    126\u001b[0m     pd_clean(self._dag)                  #of these 3 lines\n",
      "File \u001b[0;32m~/miniforge3/envs/sage/lib/python3.12/site-packages/sage/rings/polynomial/polynomial_compiled.pyx:346\u001b[0m, in \u001b[0;36msage.rings.polynomial.polynomial_compiled.pd_eval (build/cythonized/sage/rings/polynomial/polynomial_compiled.c:4964)\u001b[0;34m()\u001b[0m\n\u001b[1;32m    344\u001b[0m cdef inline int pd_eval(generic_pd pd, object vars, object coeffs) except -2:\n\u001b[1;32m    345\u001b[0m     if pd.value is None:\n\u001b[0;32m--> 346\u001b[0m         pd.eval(vars, coeffs)\n\u001b[1;32m    347\u001b[0m     pd.hits += 1\n\u001b[1;32m    348\u001b[0m \n",
      "File \u001b[0;32m~/miniforge3/envs/sage/lib/python3.12/site-packages/sage/rings/polynomial/polynomial_compiled.pyx:504\u001b[0m, in \u001b[0;36msage.rings.polynomial.polynomial_compiled.abc_pd.eval (build/cythonized/sage/rings/polynomial/polynomial_compiled.c:8240)\u001b[0;34m()\u001b[0m\n\u001b[1;32m    502\u001b[0m \n\u001b[1;32m    503\u001b[0m     cdef int eval(abc_pd self, object vars, object coeffs) except -2:\n\u001b[0;32m--> 504\u001b[0m         pd_eval(self.left, vars, coeffs)\n\u001b[1;32m    505\u001b[0m         pd_eval(self.right, vars, coeffs)\n\u001b[1;32m    506\u001b[0m         self.value = self.left.value * self.right.value + coeffs[self.index]\n",
      "File \u001b[0;32m~/miniforge3/envs/sage/lib/python3.12/site-packages/sage/rings/polynomial/polynomial_compiled.pyx:346\u001b[0m, in \u001b[0;36msage.rings.polynomial.polynomial_compiled.pd_eval (build/cythonized/sage/rings/polynomial/polynomial_compiled.c:4964)\u001b[0;34m()\u001b[0m\n\u001b[1;32m    344\u001b[0m cdef inline int pd_eval(generic_pd pd, object vars, object coeffs) except -2:\n\u001b[1;32m    345\u001b[0m     if pd.value is None:\n\u001b[0;32m--> 346\u001b[0m         pd.eval(vars, coeffs)\n\u001b[1;32m    347\u001b[0m     pd.hits += 1\n\u001b[1;32m    348\u001b[0m \n",
      "File \u001b[0;32m~/miniforge3/envs/sage/lib/python3.12/site-packages/sage/rings/polynomial/polynomial_compiled.pyx:504\u001b[0m, in \u001b[0;36msage.rings.polynomial.polynomial_compiled.abc_pd.eval (build/cythonized/sage/rings/polynomial/polynomial_compiled.c:8240)\u001b[0;34m()\u001b[0m\n\u001b[1;32m    502\u001b[0m \n\u001b[1;32m    503\u001b[0m     cdef int eval(abc_pd self, object vars, object coeffs) except -2:\n\u001b[0;32m--> 504\u001b[0m         pd_eval(self.left, vars, coeffs)\n\u001b[1;32m    505\u001b[0m         pd_eval(self.right, vars, coeffs)\n\u001b[1;32m    506\u001b[0m         self.value = self.left.value * self.right.value + coeffs[self.index]\n",
      "    \u001b[0;31m[... skipping similar frames: sage.rings.polynomial.polynomial_compiled.pd_eval (build/cythonized/sage/rings/polynomial/polynomial_compiled.c:4964) at line 346 (106 times), sage.rings.polynomial.polynomial_compiled.abc_pd.eval (build/cythonized/sage/rings/polynomial/polynomial_compiled.c:8240) at line 504 (105 times)]\u001b[0m\n",
      "File \u001b[0;32m~/miniforge3/envs/sage/lib/python3.12/site-packages/sage/rings/polynomial/polynomial_compiled.pyx:504\u001b[0m, in \u001b[0;36msage.rings.polynomial.polynomial_compiled.abc_pd.eval (build/cythonized/sage/rings/polynomial/polynomial_compiled.c:8240)\u001b[0;34m()\u001b[0m\n\u001b[1;32m    502\u001b[0m \n\u001b[1;32m    503\u001b[0m     cdef int eval(abc_pd self, object vars, object coeffs) except -2:\n\u001b[0;32m--> 504\u001b[0m         pd_eval(self.left, vars, coeffs)\n\u001b[1;32m    505\u001b[0m         pd_eval(self.right, vars, coeffs)\n\u001b[1;32m    506\u001b[0m         self.value = self.left.value * self.right.value + coeffs[self.index]\n",
      "File \u001b[0;32m~/miniforge3/envs/sage/lib/python3.12/site-packages/sage/rings/polynomial/polynomial_compiled.pyx:346\u001b[0m, in \u001b[0;36msage.rings.polynomial.polynomial_compiled.pd_eval (build/cythonized/sage/rings/polynomial/polynomial_compiled.c:4964)\u001b[0;34m()\u001b[0m\n\u001b[1;32m    344\u001b[0m cdef inline int pd_eval(generic_pd pd, object vars, object coeffs) except -2:\n\u001b[1;32m    345\u001b[0m     if pd.value is None:\n\u001b[0;32m--> 346\u001b[0m         pd.eval(vars, coeffs)\n\u001b[1;32m    347\u001b[0m     pd.hits += 1\n\u001b[1;32m    348\u001b[0m \n",
      "File \u001b[0;32m~/miniforge3/envs/sage/lib/python3.12/site-packages/sage/rings/polynomial/polynomial_compiled.pyx:506\u001b[0m, in \u001b[0;36msage.rings.polynomial.polynomial_compiled.abc_pd.eval (build/cythonized/sage/rings/polynomial/polynomial_compiled.c:8266)\u001b[0;34m()\u001b[0m\n\u001b[1;32m    504\u001b[0m pd_eval(self.left, vars, coeffs)\n\u001b[1;32m    505\u001b[0m pd_eval(self.right, vars, coeffs)\n\u001b[0;32m--> 506\u001b[0m self.value = self.left.value * self.right.value + coeffs[self.index]\n\u001b[1;32m    507\u001b[0m pd_clean(self.left)\n\u001b[1;32m    508\u001b[0m pd_clean(self.right)\n",
      "File \u001b[0;32m~/miniforge3/envs/sage/lib/python3.12/site-packages/sage/structure/element.pyx:1222\u001b[0m, in \u001b[0;36msage.structure.element.Element.__add__ (build/cythonized/sage/structure/element.c:19046)\u001b[0;34m()\u001b[0m\n\u001b[1;32m   1220\u001b[0m # Left and right are Sage elements => use coercion model\n\u001b[1;32m   1221\u001b[0m if BOTH_ARE_ELEMENT(cl):\n\u001b[0;32m-> 1222\u001b[0m     return coercion_model.bin_op(left, right, add)\n\u001b[1;32m   1223\u001b[0m \n\u001b[1;32m   1224\u001b[0m cdef long value\n",
      "File \u001b[0;32m~/miniforge3/envs/sage/lib/python3.12/site-packages/sage/structure/coerce.pyx:1238\u001b[0m, in \u001b[0;36msage.structure.coerce.CoercionModel.bin_op (build/cythonized/sage/structure/coerce.c:15970)\u001b[0;34m()\u001b[0m\n\u001b[1;32m   1236\u001b[0m     self._record_exception()\n\u001b[1;32m   1237\u001b[0m else:\n\u001b[0;32m-> 1238\u001b[0m     return PyObject_CallObject(op, xy)\n\u001b[1;32m   1239\u001b[0m \n\u001b[1;32m   1240\u001b[0m if op is mul:\n",
      "File \u001b[0;32m~/miniforge3/envs/sage/lib/python3.12/site-packages/sage/structure/element.pyx:1219\u001b[0m, in \u001b[0;36msage.structure.element.Element.__add__ (build/cythonized/sage/structure/element.c:19011)\u001b[0;34m()\u001b[0m\n\u001b[1;32m   1217\u001b[0m cdef int cl = classify_elements(left, right)\n\u001b[1;32m   1218\u001b[0m if HAVE_SAME_PARENT(cl):\n\u001b[0;32m-> 1219\u001b[0m     return (<Element>left)._add_(right)\n\u001b[1;32m   1220\u001b[0m # Left and right are Sage elements => use coercion model\n\u001b[1;32m   1221\u001b[0m if BOTH_ARE_ELEMENT(cl):\n",
      "File \u001b[0;32m~/miniforge3/envs/sage/lib/python3.12/site-packages/sage/rings/polynomial/laurent_polynomial.pyx:973\u001b[0m, in \u001b[0;36msage.rings.polynomial.laurent_polynomial.LaurentPolynomial_univariate._add_ (build/cythonized/sage/rings/polynomial/laurent_polynomial.c:15626)\u001b[0;34m()\u001b[0m\n\u001b[1;32m    971\u001b[0m elif self.__n > right.__n:\n\u001b[1;32m    972\u001b[0m     m = right.__n\n\u001b[0;32m--> 973\u001b[0m     f1 = self.__u << self.__n - m\n\u001b[1;32m    974\u001b[0m     f2 = right.__u\n\u001b[1;32m    975\u001b[0m else:\n",
      "File \u001b[0;32m~/miniforge3/envs/sage/lib/python3.12/site-packages/sage/rings/polynomial/polynomial_element.pyx:10149\u001b[0m, in \u001b[0;36msage.rings.polynomial.polynomial_element.Polynomial.__lshift__ (build/cythonized/sage/rings/polynomial/polynomial_element.c:99900)\u001b[0;34m()\u001b[0m\n\u001b[1;32m  10147\u001b[0m         x^4 + 2*x^3\n\u001b[1;32m  10148\u001b[0m     \"\"\"\n\u001b[0;32m> 10149\u001b[0m     return self.shift(k)\n\u001b[1;32m  10150\u001b[0m \n\u001b[1;32m  10151\u001b[0m def __rshift__(self, k):\n",
      "File \u001b[0;32m~/miniforge3/envs/sage/lib/python3.12/site-packages/sage/rings/polynomial/polynomial_element.pyx:10133\u001b[0m, in \u001b[0;36msage.rings.polynomial.polynomial_element.Polynomial.shift (build/cythonized/sage/rings/polynomial/polynomial_element.c:99673)\u001b[0;34m()\u001b[0m\n\u001b[1;32m  10131\u001b[0m     output = [self.base_ring().zero()] * n\n\u001b[1;32m  10132\u001b[0m     output.extend(self.coefficients(sparse=False))\n\u001b[0;32m> 10133\u001b[0m     return self._new_generic(output)\n\u001b[1;32m  10134\u001b[0m if n < 0:\n\u001b[1;32m  10135\u001b[0m     if n > self.degree():\n",
      "File \u001b[0;32m~/miniforge3/envs/sage/lib/python3.12/site-packages/sage/rings/polynomial/polynomial_element.pyx:254\u001b[0m, in \u001b[0;36msage.rings.polynomial.polynomial_element.Polynomial._new_generic (build/cythonized/sage/rings/polynomial/polynomial_element.c:14992)\u001b[0;34m()\u001b[0m\n\u001b[1;32m    252\u001b[0m         del coeffs[n]\n\u001b[1;32m    253\u001b[0m         n -= 1\n\u001b[0;32m--> 254\u001b[0m     return type(self)(self._parent, coeffs, check=False)\n\u001b[1;32m    255\u001b[0m \n\u001b[1;32m    256\u001b[0m cpdef _add_(self, right):\n",
      "File \u001b[0;32m~/miniforge3/envs/sage/lib/python3.12/site-packages/sage/rings/polynomial/polynomial_integer_dense_flint.pyx:287\u001b[0m, in \u001b[0;36msage.rings.polynomial.polynomial_integer_dense_flint.Polynomial_integer_dense_flint.__init__ (build/cythonized/sage/rings/polynomial/polynomial_integer_dense_flint.cpp:13289)\u001b[0;34m()\u001b[0m\n\u001b[1;32m    285\u001b[0m     x = [x]   # constant polynomials\n\u001b[1;32m    286\u001b[0m \n\u001b[0;32m--> 287\u001b[0m sig_on()\n\u001b[1;32m    288\u001b[0m fmpz_poly_realloc(self._poly, len(x))\n\u001b[1;32m    289\u001b[0m sig_off()\n",
      "\u001b[0;31mKeyboardInterrupt\u001b[0m: "
     ]
    }
   ],
   "source": [
    "'''\n",
    "Checking Theorem 1.1 using census L-space knots\n",
    "'''\n",
    "with open(\"Theorem_census.csv\", \"a\") as output: #Opens output file # Use the a parameter to add a row\n",
    "    csvwriter = csv.writer(output, delimiter = \",\")\n",
    "    csvwriter.writerow(('knot', 'p', 'q', 'Ord_v', 'Ordv_pq', 'Result'))\n",
    "R.<t> = LaurentPolynomialRing(ZZ)\n",
    "for p in range(2, 10):\n",
    "    for k in census: \n",
    "        if not(L_space[k]):continue\n",
    "        bnd = p*(2*genus_3[k] - 1)\n",
    "        M = snappy.Manifold(k)\n",
    "        A = M.alexander_polynomial()\n",
    "        for i in range(1, 100):\n",
    "            q = bnd + i\n",
    "            if gcd(p,q) != 1: continue\n",
    "            Ord_v = get_Ordv_laurent(R(A(t)))\n",
    "            T_pq = R((t^(p*q) - 1)*(t - 1)/((t^p - 1)*(t^q - 1)))\n",
    "            A_pq = T_pq(t) * R(A(t^p))\n",
    "            Ordv_pq = get_Ordv_laurent(R(A_pq))\n",
    "            quot = ((p*(Ord_v + 1)) == (Ordv_pq+1))\n",
    "            #print(k, p, q, Ord_v, Ordv_pq, quot)\n",
    "            with open(\"Theorem_census.csv\", \"a\") as output: #Opens output file # Use the a parameter to add a row\n",
    "                csvwriter = csv.writer(output, delimiter = \",\")\n",
    "                csvwriter.writerow((k, p, q, Ord_v, Ordv_pq, quot))"
   ]
  },
  {
   "cell_type": "code",
   "execution_count": 37,
   "id": "42525587-282a-49f3-85e1-138db664ecff",
   "metadata": {},
   "outputs": [],
   "source": [
    "'''\n",
    "Checking Theorem 1.3 for trefoil\n",
    "'''\n",
    "with open(\"Theorem_T23.csv\", \"a\") as output: #Opens output file # Use the a parameter to add a row\n",
    "    csvwriter = csv.writer(output, delimiter = \",\")\n",
    "    csvwriter.writerow(('p', 'q', 'Ord_v', 'Ordv_pq', 'Result'))\n",
    "R.<t> = LaurentPolynomialRing(ZZ)\n",
    "M = snappy.Manifold('3_1')\n",
    "A = M.alexander_polynomial()\n",
    "for p in range(2, 10):\n",
    "    for i in range(1, 100):\n",
    "        q = p + i #p(2*g - 1) = p(2-1) = p\n",
    "        if(gcd(p,q) != 1):continue\n",
    "        Ord_v = get_Ordv_laurent(R(A(t)))\n",
    "        T_pq = R(t^(p*q) - 1)*(t - 1)/((t^p - 1)*(t^q - 1))\n",
    "        A_pq = T_pq(t) * A(t^p)\n",
    "        Ordv_pq = get_Ordv_laurent(R(A_pq))\n",
    "        quot = ((p*(Ord_v + 1)) == (Ordv_pq+1))\n",
    "        #print('3_1', p, q, Ord_v, Ordv_pq, quot)\n",
    "        with open(\"Theorem_T23.csv\", \"a\") as output: #Opens output file # Use the a parameter to add a row\n",
    "            csvwriter = csv.writer(output, delimiter = \",\")\n",
    "            csvwriter.writerow((p, q, Ord_v, Ordv_pq, quot))"
   ]
  },
  {
   "cell_type": "code",
   "execution_count": null,
   "id": "f2d9bb97-7935-4f44-8b1e-878a1fbca422",
   "metadata": {},
   "outputs": [],
   "source": []
  }
 ],
 "metadata": {
  "kernelspec": {
   "display_name": "SageMath 10.5",
   "language": "sage",
   "name": "sagemath"
  },
  "language_info": {
   "codemirror_mode": {
    "name": "ipython",
    "version": 3
   },
   "file_extension": ".py",
   "mimetype": "text/x-python",
   "name": "python",
   "nbconvert_exporter": "python",
   "pygments_lexer": "ipython3",
   "version": "3.12.8"
  }
 },
 "nbformat": 4,
 "nbformat_minor": 5
}
