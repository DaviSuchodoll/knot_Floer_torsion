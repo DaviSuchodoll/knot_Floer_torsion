{
 "cells": [
  {
   "cell_type": "code",
   "execution_count": 21,
   "id": "2fee5977-0308-4a05-86ec-ce0f1f97257f",
   "metadata": {},
   "outputs": [],
   "source": [
    "import snappy\n",
    "import csv"
   ]
  },
  {
   "cell_type": "code",
   "execution_count": 22,
   "id": "795b36b5-9fa3-485d-bc59-6205b3d33c2a",
   "metadata": {},
   "outputs": [],
   "source": [
    "def get_degrees(A): \n",
    "#     temp = str(A).replace(' 1', ' a^0')\n",
    "#     temp = temp.replace(' a ', ' a^1 ')\n",
    "    R.<a> = LaurentPolynomialRing(ZZ, 'a')\n",
    "    # coeffs = re.findall(r'\\d+', temp)\n",
    "    # retval = []\n",
    "    # for t in coeffs: \n",
    "    #     retval.append(eval(t))\n",
    "    return R(A).exponents()\n",
    "\n",
    "def get_Ordv_Alexander(A):\n",
    "    ordv = 0\n",
    "    alpha = get_degrees(A)\n",
    "    for i in range(1,len(alpha)):\n",
    "        diff = abs(alpha[i-1] - alpha[i])\n",
    "        ordv = max(ordv, diff)\n",
    "    return ordv\n",
    "\n",
    "def get_Ordv_laurent(P):\n",
    "    exp = P.exponents()\n",
    "    retVal = 0\n",
    "    for i in range(1, len(exp)):\n",
    "        if abs(exp[i] - exp[i-1]) > retVal: \n",
    "            retVal = abs(exp[i] - exp[i-1])\n",
    "    return retVal\n",
    "\n",
    "def get_Ordv_HFK(K):\n",
    "    L = snappy.Manifold(K).link()\n",
    "    F = PolynomialRing(Integers(2), 'v')\n",
    "    HFK = L.knot_floer_homology(complex=True)\n",
    "    diff = HFK['differentials'] #gens x gens \\mapsto <gens>\n",
    "    gens = HFK['generators'] #{i: (gr_A(i), gr_M(i))}\n",
    "    diff_v = {(i,j):F(diff[i,j]*F('v')^(gens[i][0]-gens[j][0])) for i, j in diff if gens[i][1] == gens[j][1] + 1}\n",
    "    mat_v = matrix(F, diff_v)\n",
    "    M = mat_v.elementary_divisors()\n",
    "    ord_v = 0\n",
    "    for i in M: \n",
    "        P = F(i)\n",
    "        if(str(i) == '0'): continue\n",
    "        deg = P.exponents()[-1]\n",
    "        ord_v = max(ord_v, deg)\n",
    "    with open(\"Ord_v.csv\", \"a\") as output: #Opens output file # Use the a parameter to add a row\n",
    "        csvwriter = csv.writer(output, delimiter = \",\")\n",
    "        csvwriter.writerow((K, ord_v))\n",
    "    return ord_v"
   ]
  },
  {
   "cell_type": "code",
   "execution_count": 23,
   "id": "2d2c8ff0-2c05-445b-b8b3-1fb3e6a11b55",
   "metadata": {},
   "outputs": [],
   "source": [
    "census = []\n",
    "with open('L_space_status.csv', newline='') as csvfile:\n",
    "    reader = csv.DictReader(csvfile, delimiter=',')\n",
    "    for row in reader:\n",
    "        census.append(str(row['knot']))"
   ]
  },
  {
   "cell_type": "code",
   "execution_count": 24,
   "id": "93b4b8e8-6238-4002-9a57-dde13e6917f4",
   "metadata": {},
   "outputs": [
    {
     "data": {
      "text/plain": [
       "o9_43443(0,0)"
      ]
     },
     "execution_count": 24,
     "metadata": {},
     "output_type": "execute_result"
    }
   ],
   "source": [
    "snappy.Manifold(census[1240])"
   ]
  },
  {
   "cell_type": "code",
   "execution_count": 25,
   "id": "0f5ed25b-b7ca-41e5-bf6d-c6b1df5e4694",
   "metadata": {},
   "outputs": [],
   "source": [
    "L_space = {'knot':'L_space'}\n",
    "with open('L_space_status.csv', newline='') as csvfile:\n",
    "    reader = csv.DictReader(csvfile, delimiter=',')\n",
    "    for row in reader:\n",
    "        L_space[str(row['knot'])] = eval(row['L-space knot'])"
   ]
  },
  {
   "cell_type": "code",
   "execution_count": 26,
   "id": "203cdf27-66b0-4c37-bbba-0a768396f393",
   "metadata": {},
   "outputs": [
    {
     "data": {
      "text/plain": [
       "False"
      ]
     },
     "execution_count": 26,
     "metadata": {},
     "output_type": "execute_result"
    }
   ],
   "source": [
    "L_space[census[1240]]"
   ]
  },
  {
   "cell_type": "code",
   "execution_count": 27,
   "id": "5fd6dbe5-69ce-41d6-9200-f2565f47383f",
   "metadata": {},
   "outputs": [],
   "source": [
    "genus_census = {'knot':'genus'}\n",
    "with open('3genus.csv', newline='') as csvfile:\n",
    "    reader = csv.DictReader(csvfile, delimiter=',')\n",
    "    for row in reader:\n",
    "        genus_census[str(row['knot'])] = eval(row['3-genus'])"
   ]
  },
  {
   "cell_type": "code",
   "execution_count": 28,
   "id": "d3ad5f68-23d9-4791-847f-26a7f53059c9",
   "metadata": {},
   "outputs": [
    {
     "data": {
      "text/plain": [
       "8"
      ]
     },
     "execution_count": 28,
     "metadata": {},
     "output_type": "execute_result"
    }
   ],
   "source": [
    "genus_census[census[1240]]"
   ]
  },
  {
   "cell_type": "code",
   "execution_count": 29,
   "id": "12afaefd-cd9d-43b2-adb0-04a297e34cc0",
   "metadata": {},
   "outputs": [
    {
     "name": "stderr",
     "output_type": "stream",
     "text": [
      "\n",
      "KeyboardInterrupt\n",
      "\n"
     ]
    }
   ],
   "source": [
    "'''\n",
    "Checking Theorem 1.1 using census L-space knots\n",
    "'''\n",
    "with open(\"Theorem_census.csv\", \"a\") as output: #Opens output file # Use the a parameter to add a row\n",
    "    csvwriter = csv.writer(output, delimiter = \",\")\n",
    "    csvwriter.writerow(('knot', 'p', 'q', 'Ord_v', 'Ordv_pq', 'result'))\n",
    "R.<t> = LaurentPolynomialRing(ZZ)\n",
    "for p in range(2, 10):\n",
    "    for k in census: \n",
    "        if not(L_space[k]):continue\n",
    "        bnd = p*(2*genus_census[k] - 1)\n",
    "        M = snappy.Manifold(k)\n",
    "        A = M.alexander_polynomial()\n",
    "        for i in range(1, 100):\n",
    "            q = bnd + i\n",
    "            if gcd(p,q) != 1: continue\n",
    "            Ord_v = get_Ordv_laurent(R(A(t)))\n",
    "            T_pq = R((t^(p*q) - 1)*(t - 1)/((t^p - 1)*(t^q - 1)))\n",
    "            A_pq = T_pq(t) * R(A(t^p))\n",
    "            Ordv_pq = get_Ordv_laurent(R(A_pq))\n",
    "            quot = ((p*(Ord_v + 1)) == (Ordv_pq+1))\n",
    "            #print(k, p, q, Ord_v, Ordv_pq, quot)\n",
    "            with open(\"Theorem_census.csv\", \"a\") as output: #Opens output file # Use the a parameter to add a row\n",
    "                csvwriter = csv.writer(output, delimiter = \",\")\n",
    "                csvwriter.writerow((k, p, q, Ord_v, Ordv_pq, quot))"
   ]
  },
  {
   "cell_type": "code",
   "execution_count": 35,
   "id": "5a480985-a23b-4251-bbc2-ec4d9f8d364d",
   "metadata": {},
   "outputs": [],
   "source": [
    "with open(\"Theorem_HTLinkExteriors.csv\", \"a\") as output: #Opens output file # Use the a parameter to add a row\n",
    "    csvwriter = csv.writer(output, delimiter = \",\")\n",
    "    csvwriter.writerow(('knot', 'p', 'q', 'Ord_v', 'Ordv_pq', 'result'))\n",
    "R.<t> = LaurentPolynomialRing(ZZ)\n",
    "for p in range(2,10):\n",
    "    for M in snappy.HTLinkExteriors(knots_vs_links='knots'): \n",
    "        K = M.link()\n",
    "        HFK = K.knot_floer_homology()\n",
    "        if (not(HFK['L_space_knot'])) or HFK['seifert_genus'] == 1: continue\n",
    "        bnd = p*(2*HFK['seifert_genus'] - 1)\n",
    "        A = M.alexander_polynomial()\n",
    "        for i in range(1, 100):\n",
    "            q = bnd + i\n",
    "            if gcd(p,q) != 1: continue\n",
    "            Ord_v = get_Ordv_laurent(R(A(t)))\n",
    "            T_pq = R((t^(p*q) - 1)*(t - 1)/((t^p - 1)*(t^q - 1)))\n",
    "            A_pq = T_pq(t) * R(A(t^p))\n",
    "            Ordv_pq = get_Ordv_laurent(R(A_pq))\n",
    "            quot = ((p*(Ord_v + 1)) == (Ordv_pq+1))\n",
    "            #print(k, p, q, Ord_v, Ordv_pq, quot)\n",
    "            with open(\"Theorem_HTLinkExteriors.csv\", \"a\") as output: #Opens output file # Use the a parameter to add a row\n",
    "                csvwriter = csv.writer(output, delimiter = \",\")\n",
    "                csvwriter.writerow((M.name(), p, q, Ord_v, Ordv_pq, quot))"
   ]
  },
  {
   "cell_type": "code",
   "execution_count": 34,
   "id": "42525587-282a-49f3-85e1-138db664ecff",
   "metadata": {},
   "outputs": [],
   "source": [
    "'''\n",
    "Checking Theorem 1.3 for trefoil\n",
    "'''\n",
    "with open(\"Theorem_T23.csv\", \"a\") as output: #Opens output file # Use the a parameter to add a row\n",
    "    csvwriter = csv.writer(output, delimiter = \",\")\n",
    "    csvwriter.writerow(('p', 'q', 'Ord_v', 'Ordv_pq', 'Result'))\n",
    "R.<t> = LaurentPolynomialRing(ZZ)\n",
    "M = snappy.Manifold('3_1')\n",
    "A = M.alexander_polynomial()\n",
    "for p in range(2, 10):\n",
    "    for i in range(1, 100):\n",
    "        q = p + i #p(2*g - 1) = p(2-1) = p\n",
    "        if(gcd(p,q) != 1):continue\n",
    "        Ord_v = get_Ordv_laurent(R(A(t)))\n",
    "        T_pq = R(t^(p*q) - 1)*(t - 1)/((t^p - 1)*(t^q - 1))\n",
    "        A_pq = T_pq(t) * A(t^p)\n",
    "        Ordv_pq = get_Ordv_laurent(R(A_pq))\n",
    "        quot = ((p*(Ord_v + 1)) == (Ordv_pq+1))\n",
    "        quot_less = (p + q%p - 1) == (Ordv_pq)\n",
    "        #print('3_1', p, q, Ord_v, Ordv_pq, quot)\n",
    "        with open(\"Theorem_T23.csv\", \"a\") as output: #Opens output file # Use the a parameter to add a row\n",
    "            csvwriter = csv.writer(output, delimiter = \",\")\n",
    "            if q > 2*p: \n",
    "                csvwriter.writerow((p, q, Ord_v, Ordv_pq, quot))\n",
    "            else: \n",
    "                csvwriter.writerow((p, q, Ord_v, Ordv_pq, quot_less))"
   ]
  },
  {
   "cell_type": "code",
   "execution_count": null,
   "id": "32358e9f-d5d7-47bc-8fba-37ac1622d272",
   "metadata": {},
   "outputs": [],
   "source": []
  }
 ],
 "metadata": {
  "kernelspec": {
   "display_name": "SageMath 10.5",
   "language": "sage",
   "name": "sagemath"
  },
  "language_info": {
   "codemirror_mode": {
    "name": "ipython",
    "version": 3
   },
   "file_extension": ".py",
   "mimetype": "text/x-python",
   "name": "python",
   "nbconvert_exporter": "python",
   "pygments_lexer": "ipython3",
   "version": "3.12.8"
  }
 },
 "nbformat": 4,
 "nbformat_minor": 5
}
