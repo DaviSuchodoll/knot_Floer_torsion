{
 "cells": [
  {
   "cell_type": "code",
   "execution_count": 1,
   "id": "21abce2f-9e9c-4a40-8b27-d4c8334f0905",
   "metadata": {},
   "outputs": [],
   "source": [
    "import snappy"
   ]
  },
  {
   "cell_type": "code",
   "execution_count": 2,
   "id": "94952aae-ac8e-4cbb-84e5-cd27d066464c",
   "metadata": {},
   "outputs": [],
   "source": [
    "def cable_braid_word(companion_braid, p, q):\n",
    "    \"\"\"\n",
    "    Compute the braid word for the (p,q)-cable of a knot given its companion braid word.\n",
    "    \n",
    "    Input:\n",
    "    - companion_braid: list of integers representing the braid word of the companion knot\n",
    "                      (positive integers for positive crossings, negative for negative)\n",
    "    - p, q: integers representing the cabling parameters (p strands, q full twists)\n",
    "    \n",
    "    Output:\n",
    "    - list of integers representing the braid word of the (p,q)-cable\n",
    "    \"\"\"\n",
    "    from sage.groups.braid import BraidGroup\n",
    "    \n",
    "    # Determine the number of strands in the original braid\n",
    "    n = max(abs(s) for s in companion_braid) + 1\n",
    "    \n",
    "    # Create the braid group for the companion knot\n",
    "    B = BraidGroup(n)\n",
    "    \n",
    "    # Convert the companion braid word to a braid element\n",
    "    companion_braid_elements = [B.gen(i-1) if i > 0 else B.gen(-i-1).inverse() for i in companion_braid]\n",
    "    companion = B.one()\n",
    "    for b in companion_braid_elements:\n",
    "        companion *= b\n",
    "    \n",
    "    # Create the braid group for the cabled knot (has p*n strands)\n",
    "    cabled_B = BraidGroup(p * n)\n",
    "    \n",
    "    # Initialize the cabled braid as the identity\n",
    "    cabled_braid = cabled_B.one()\n",
    "    \n",
    "    # For each generator in the original braid, create its cabled version\n",
    "    for s in companion_braid:\n",
    "        original_strand = abs(s)\n",
    "        is_positive = s > 0\n",
    "        \n",
    "        # The original generator affects strands original_strand-1 and original_strand\n",
    "        # In the cabled version, this becomes p parallel strands\n",
    "        start = (original_strand - 1) * p\n",
    "        end = original_strand * p\n",
    "        \n",
    "        # Create the braid for this portion\n",
    "        for i in range(start, end - 1):\n",
    "            if is_positive:\n",
    "                cabled_braid *= cabled_B.gen(i)\n",
    "            else:\n",
    "                cabled_braid *= cabled_B.gen(i).inverse()\n",
    "    \n",
    "    # Now add the torus knot braid (p,q) that links the cables\n",
    "    # This is the full twist of p strands q times\n",
    "    torus_part = cabled_B.one()\n",
    "    for _ in range(abs(q)):\n",
    "        # A full twist is (s_1 s_2 ... s_{p-1})^p\n",
    "        for i in range(p - 1):\n",
    "            if q > 0:\n",
    "                torus_part *= cabled_B.gen(i)\n",
    "            else:\n",
    "                torus_part *= cabled_B.gen(i).inverse()\n",
    "    \n",
    "    # The cabled braid is the composition of the cabled companion and the torus part\n",
    "    result_braid = cabled_braid * torus_part\n",
    "    \n",
    "    # Convert back to a list of integers\n",
    "    result_word = []\n",
    "    for term in result_braid.Tietze():\n",
    "        result_word.append(term)\n",
    "    \n",
    "    return result_word"
   ]
  },
  {
   "cell_type": "code",
   "execution_count": 7,
   "id": "96bb2714-6857-4eac-870e-f2bbea2f088f",
   "metadata": {},
   "outputs": [
    {
     "data": {
      "text/plain": [
       "[1, 1, 1, 1, 1, 1]"
      ]
     },
     "execution_count": 7,
     "metadata": {},
     "output_type": "execute_result"
    }
   ],
   "source": [
    "cable_braid_word([1], 2, 3)"
   ]
  },
  {
   "cell_type": "code",
   "execution_count": 4,
   "id": "8b01d94e-5561-45c5-b905-c2a39ffe8a61",
   "metadata": {},
   "outputs": [
    {
     "data": {
      "text/plain": [
       "[1, -3, 1, 3, 1]"
      ]
     },
     "execution_count": 4,
     "metadata": {},
     "output_type": "execute_result"
    }
   ],
   "source": [
    "cable_braid_word([1,-2, 1, 2], 2, 1)"
   ]
  },
  {
   "cell_type": "code",
   "execution_count": 5,
   "id": "2e50d7a6-461a-49e5-99d1-1dd9e27a2719",
   "metadata": {},
   "outputs": [],
   "source": [
    "def cable_braid_word(companion_braid, p, q):\n",
    "    \"\"\"\n",
    "    Compute the braid word for the (p,q)-cable of a knot given its companion braid word.\n",
    "    \n",
    "    Input:\n",
    "    - companion_braid: list of integers representing the braid word of the companion knot\n",
    "                      (positive integers for positive crossings, negative for negative)\n",
    "    - p, q: integers representing the cabling parameters\n",
    "    \n",
    "    Output:\n",
    "    - list of integers representing the braid word of the (p,q)-cable\n",
    "    \"\"\"\n",
    "    from sage.groups.braid import BraidGroup\n",
    "    \n",
    "    # Determine the number of strands in the original braid\n",
    "    n = max(abs(s) for s in companion_braid) + 1\n",
    "    \n",
    "    # Create the braid group for the companion knot\n",
    "    B = BraidGroup(n)\n",
    "    \n",
    "    # Convert the companion braid word to a braid element\n",
    "    companion = B.one()\n",
    "    for s in companion_braid:\n",
    "        if s > 0:\n",
    "            companion *= B.gen(s-1)\n",
    "        else:\n",
    "            companion *= B.gen(-s-1).inverse()\n",
    "    \n",
    "    # Create the braid group for the cabled knot (has p strands)\n",
    "    cabled_B = BraidGroup(p)\n",
    "    \n",
    "    # The cable consists of:\n",
    "    # 1. The identity braid (parallel strands) conjugated by...\n",
    "    # 2. The q-full-twist braid Δ^2q\n",
    "    \n",
    "    # Create the full twist (Δ^2) for p strands\n",
    "    full_twist = cabled_B.one()\n",
    "    for i in range(p-1):\n",
    "        full_twist *= cabled_B.gen(i)\n",
    "    for i in range(p-2, -1, -1):\n",
    "        full_twist *= cabled_B.gen(i)\n",
    "    \n",
    "    # Create the q-full-twist\n",
    "    torus_part = full_twist**q\n",
    "    \n",
    "    # The cabled braid word is the Tietze representation of the torus part\n",
    "    cable_word = list(torus_part.Tietze())\n",
    "    \n",
    "    return cable_word"
   ]
  },
  {
   "cell_type": "code",
   "execution_count": null,
   "id": "35065aad-da23-4ed5-b830-c3df7046f7f9",
   "metadata": {},
   "outputs": [],
   "source": []
  }
 ],
 "metadata": {
  "kernelspec": {
   "display_name": "SageMath 10.5",
   "language": "sage",
   "name": "sagemath"
  },
  "language_info": {
   "codemirror_mode": {
    "name": "ipython",
    "version": 3
   },
   "file_extension": ".py",
   "mimetype": "text/x-python",
   "name": "python",
   "nbconvert_exporter": "python",
   "pygments_lexer": "ipython3",
   "version": "3.12.8"
  }
 },
 "nbformat": 4,
 "nbformat_minor": 5
}
